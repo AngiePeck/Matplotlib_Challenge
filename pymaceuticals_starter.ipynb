{
 "cells": [
  {
   "cell_type": "markdown",
   "metadata": {},
   "source": [
    "## Observations and Insights"
   ]
  },
  {
   "cell_type": "markdown",
   "metadata": {},
   "source": [
    "    From the statistal calculation of the mean and the box and whisker plots, the Capomulin and Ramicane appear to have the smallest over tumor volume. \n",
    "    When comparing the quartiles of the top four drug regimens, the Capomulin and Ramicane treated mice had the smallest tumor volumes at the end of treatment with 25th and 75th quartiles being approxmately 32 to 40 mm3, with a mean of 38 mm3. These two candidates show much more promising results than Infubinol and Ceftamin. \n",
    "    Specifically, mouse m601, treated with Capomulon displayed a marked decrease in tumor volume during the regimen. \n",
    "    There is a moderate correlation between mouse weight and tumor volume as shown in the scatter plot, which shows an r-squared value of approximately 0.7. "
   ]
  },
  {
   "cell_type": "markdown",
   "metadata": {},
   "source": []
  },
  {
   "cell_type": "markdown",
   "metadata": {},
   "source": [
    "## Dependencies and starter code"
   ]
  },
  {
   "cell_type": "code",
   "execution_count": 1,
   "metadata": {},
   "outputs": [
    {
     "data": {
      "text/html": [
       "<div>\n",
       "<style scoped>\n",
       "    .dataframe tbody tr th:only-of-type {\n",
       "        vertical-align: middle;\n",
       "    }\n",
       "\n",
       "    .dataframe tbody tr th {\n",
       "        vertical-align: top;\n",
       "    }\n",
       "\n",
       "    .dataframe thead th {\n",
       "        text-align: right;\n",
       "    }\n",
       "</style>\n",
       "<table border=\"1\" class=\"dataframe\">\n",
       "  <thead>\n",
       "    <tr style=\"text-align: right;\">\n",
       "      <th></th>\n",
       "      <th>Mouse ID</th>\n",
       "      <th>Drug Regimen</th>\n",
       "      <th>Sex</th>\n",
       "      <th>Age_months</th>\n",
       "      <th>Weight (g)</th>\n",
       "    </tr>\n",
       "  </thead>\n",
       "  <tbody>\n",
       "    <tr>\n",
       "      <th>0</th>\n",
       "      <td>k403</td>\n",
       "      <td>Ramicane</td>\n",
       "      <td>Male</td>\n",
       "      <td>21</td>\n",
       "      <td>16</td>\n",
       "    </tr>\n",
       "    <tr>\n",
       "      <th>1</th>\n",
       "      <td>s185</td>\n",
       "      <td>Capomulin</td>\n",
       "      <td>Female</td>\n",
       "      <td>3</td>\n",
       "      <td>17</td>\n",
       "    </tr>\n",
       "    <tr>\n",
       "      <th>2</th>\n",
       "      <td>x401</td>\n",
       "      <td>Capomulin</td>\n",
       "      <td>Female</td>\n",
       "      <td>16</td>\n",
       "      <td>15</td>\n",
       "    </tr>\n",
       "    <tr>\n",
       "      <th>3</th>\n",
       "      <td>m601</td>\n",
       "      <td>Capomulin</td>\n",
       "      <td>Male</td>\n",
       "      <td>22</td>\n",
       "      <td>17</td>\n",
       "    </tr>\n",
       "    <tr>\n",
       "      <th>4</th>\n",
       "      <td>g791</td>\n",
       "      <td>Ramicane</td>\n",
       "      <td>Male</td>\n",
       "      <td>11</td>\n",
       "      <td>16</td>\n",
       "    </tr>\n",
       "  </tbody>\n",
       "</table>\n",
       "</div>"
      ],
      "text/plain": [
       "  Mouse ID Drug Regimen     Sex  Age_months  Weight (g)\n",
       "0     k403     Ramicane    Male          21          16\n",
       "1     s185    Capomulin  Female           3          17\n",
       "2     x401    Capomulin  Female          16          15\n",
       "3     m601    Capomulin    Male          22          17\n",
       "4     g791     Ramicane    Male          11          16"
      ]
     },
     "execution_count": 1,
     "metadata": {},
     "output_type": "execute_result"
    }
   ],
   "source": [
    "# Dependencies and Setup\n",
    "import matplotlib.pyplot as plt\n",
    "import pandas as pd\n",
    "import scipy.stats as st\n",
    "import numpy as np\n",
    "from scipy.stats import linregress\n",
    "# Study data files\n",
    "mouse_metadata = \"data/Mouse_metadata.csv\"\n",
    "study_results = \"data/Study_results.csv\"\n",
    "\n",
    "# Read the mouse data and the study results\n",
    "mouse_metadata = pd.read_csv(mouse_metadata)\n",
    "study_results = pd.read_csv(study_results)\n",
    "\n",
    "mouse_metadata.head()"
   ]
  },
  {
   "cell_type": "code",
   "execution_count": 2,
   "metadata": {},
   "outputs": [
    {
     "data": {
      "text/html": [
       "<div>\n",
       "<style scoped>\n",
       "    .dataframe tbody tr th:only-of-type {\n",
       "        vertical-align: middle;\n",
       "    }\n",
       "\n",
       "    .dataframe tbody tr th {\n",
       "        vertical-align: top;\n",
       "    }\n",
       "\n",
       "    .dataframe thead th {\n",
       "        text-align: right;\n",
       "    }\n",
       "</style>\n",
       "<table border=\"1\" class=\"dataframe\">\n",
       "  <thead>\n",
       "    <tr style=\"text-align: right;\">\n",
       "      <th></th>\n",
       "      <th>Mouse ID</th>\n",
       "      <th>Timepoint</th>\n",
       "      <th>Tumor Volume (mm3)</th>\n",
       "      <th>Metastatic Sites</th>\n",
       "    </tr>\n",
       "  </thead>\n",
       "  <tbody>\n",
       "    <tr>\n",
       "      <th>0</th>\n",
       "      <td>b128</td>\n",
       "      <td>0</td>\n",
       "      <td>45.0</td>\n",
       "      <td>0</td>\n",
       "    </tr>\n",
       "    <tr>\n",
       "      <th>1</th>\n",
       "      <td>f932</td>\n",
       "      <td>0</td>\n",
       "      <td>45.0</td>\n",
       "      <td>0</td>\n",
       "    </tr>\n",
       "    <tr>\n",
       "      <th>2</th>\n",
       "      <td>g107</td>\n",
       "      <td>0</td>\n",
       "      <td>45.0</td>\n",
       "      <td>0</td>\n",
       "    </tr>\n",
       "    <tr>\n",
       "      <th>3</th>\n",
       "      <td>a457</td>\n",
       "      <td>0</td>\n",
       "      <td>45.0</td>\n",
       "      <td>0</td>\n",
       "    </tr>\n",
       "    <tr>\n",
       "      <th>4</th>\n",
       "      <td>c819</td>\n",
       "      <td>0</td>\n",
       "      <td>45.0</td>\n",
       "      <td>0</td>\n",
       "    </tr>\n",
       "  </tbody>\n",
       "</table>\n",
       "</div>"
      ],
      "text/plain": [
       "  Mouse ID  Timepoint  Tumor Volume (mm3)  Metastatic Sites\n",
       "0     b128          0                45.0                 0\n",
       "1     f932          0                45.0                 0\n",
       "2     g107          0                45.0                 0\n",
       "3     a457          0                45.0                 0\n",
       "4     c819          0                45.0                 0"
      ]
     },
     "execution_count": 2,
     "metadata": {},
     "output_type": "execute_result"
    }
   ],
   "source": [
    "study_results.head()"
   ]
  },
  {
   "cell_type": "code",
   "execution_count": 3,
   "metadata": {
    "scrolled": false
   },
   "outputs": [
    {
     "data": {
      "text/html": [
       "<div>\n",
       "<style scoped>\n",
       "    .dataframe tbody tr th:only-of-type {\n",
       "        vertical-align: middle;\n",
       "    }\n",
       "\n",
       "    .dataframe tbody tr th {\n",
       "        vertical-align: top;\n",
       "    }\n",
       "\n",
       "    .dataframe thead th {\n",
       "        text-align: right;\n",
       "    }\n",
       "</style>\n",
       "<table border=\"1\" class=\"dataframe\">\n",
       "  <thead>\n",
       "    <tr style=\"text-align: right;\">\n",
       "      <th></th>\n",
       "      <th>Mouse ID</th>\n",
       "      <th>Drug Regimen</th>\n",
       "      <th>Sex</th>\n",
       "      <th>Age_months</th>\n",
       "      <th>Weight (g)</th>\n",
       "      <th>Timepoint</th>\n",
       "      <th>Tumor Volume (mm3)</th>\n",
       "      <th>Metastatic Sites</th>\n",
       "    </tr>\n",
       "  </thead>\n",
       "  <tbody>\n",
       "    <tr>\n",
       "      <th>0</th>\n",
       "      <td>k403</td>\n",
       "      <td>Ramicane</td>\n",
       "      <td>Male</td>\n",
       "      <td>21</td>\n",
       "      <td>16</td>\n",
       "      <td>0</td>\n",
       "      <td>45.000000</td>\n",
       "      <td>0</td>\n",
       "    </tr>\n",
       "    <tr>\n",
       "      <th>1</th>\n",
       "      <td>k403</td>\n",
       "      <td>Ramicane</td>\n",
       "      <td>Male</td>\n",
       "      <td>21</td>\n",
       "      <td>16</td>\n",
       "      <td>5</td>\n",
       "      <td>38.825898</td>\n",
       "      <td>0</td>\n",
       "    </tr>\n",
       "    <tr>\n",
       "      <th>2</th>\n",
       "      <td>k403</td>\n",
       "      <td>Ramicane</td>\n",
       "      <td>Male</td>\n",
       "      <td>21</td>\n",
       "      <td>16</td>\n",
       "      <td>10</td>\n",
       "      <td>35.014271</td>\n",
       "      <td>1</td>\n",
       "    </tr>\n",
       "    <tr>\n",
       "      <th>3</th>\n",
       "      <td>k403</td>\n",
       "      <td>Ramicane</td>\n",
       "      <td>Male</td>\n",
       "      <td>21</td>\n",
       "      <td>16</td>\n",
       "      <td>15</td>\n",
       "      <td>34.223992</td>\n",
       "      <td>1</td>\n",
       "    </tr>\n",
       "    <tr>\n",
       "      <th>4</th>\n",
       "      <td>k403</td>\n",
       "      <td>Ramicane</td>\n",
       "      <td>Male</td>\n",
       "      <td>21</td>\n",
       "      <td>16</td>\n",
       "      <td>20</td>\n",
       "      <td>32.997729</td>\n",
       "      <td>1</td>\n",
       "    </tr>\n",
       "    <tr>\n",
       "      <th>...</th>\n",
       "      <td>...</td>\n",
       "      <td>...</td>\n",
       "      <td>...</td>\n",
       "      <td>...</td>\n",
       "      <td>...</td>\n",
       "      <td>...</td>\n",
       "      <td>...</td>\n",
       "      <td>...</td>\n",
       "    </tr>\n",
       "    <tr>\n",
       "      <th>1888</th>\n",
       "      <td>z969</td>\n",
       "      <td>Naftisol</td>\n",
       "      <td>Male</td>\n",
       "      <td>9</td>\n",
       "      <td>30</td>\n",
       "      <td>25</td>\n",
       "      <td>63.145652</td>\n",
       "      <td>2</td>\n",
       "    </tr>\n",
       "    <tr>\n",
       "      <th>1889</th>\n",
       "      <td>z969</td>\n",
       "      <td>Naftisol</td>\n",
       "      <td>Male</td>\n",
       "      <td>9</td>\n",
       "      <td>30</td>\n",
       "      <td>30</td>\n",
       "      <td>65.841013</td>\n",
       "      <td>3</td>\n",
       "    </tr>\n",
       "    <tr>\n",
       "      <th>1890</th>\n",
       "      <td>z969</td>\n",
       "      <td>Naftisol</td>\n",
       "      <td>Male</td>\n",
       "      <td>9</td>\n",
       "      <td>30</td>\n",
       "      <td>35</td>\n",
       "      <td>69.176246</td>\n",
       "      <td>4</td>\n",
       "    </tr>\n",
       "    <tr>\n",
       "      <th>1891</th>\n",
       "      <td>z969</td>\n",
       "      <td>Naftisol</td>\n",
       "      <td>Male</td>\n",
       "      <td>9</td>\n",
       "      <td>30</td>\n",
       "      <td>40</td>\n",
       "      <td>70.314904</td>\n",
       "      <td>4</td>\n",
       "    </tr>\n",
       "    <tr>\n",
       "      <th>1892</th>\n",
       "      <td>z969</td>\n",
       "      <td>Naftisol</td>\n",
       "      <td>Male</td>\n",
       "      <td>9</td>\n",
       "      <td>30</td>\n",
       "      <td>45</td>\n",
       "      <td>73.867845</td>\n",
       "      <td>4</td>\n",
       "    </tr>\n",
       "  </tbody>\n",
       "</table>\n",
       "<p>1893 rows × 8 columns</p>\n",
       "</div>"
      ],
      "text/plain": [
       "     Mouse ID Drug Regimen   Sex  Age_months  Weight (g)  Timepoint  \\\n",
       "0        k403     Ramicane  Male          21          16          0   \n",
       "1        k403     Ramicane  Male          21          16          5   \n",
       "2        k403     Ramicane  Male          21          16         10   \n",
       "3        k403     Ramicane  Male          21          16         15   \n",
       "4        k403     Ramicane  Male          21          16         20   \n",
       "...       ...          ...   ...         ...         ...        ...   \n",
       "1888     z969     Naftisol  Male           9          30         25   \n",
       "1889     z969     Naftisol  Male           9          30         30   \n",
       "1890     z969     Naftisol  Male           9          30         35   \n",
       "1891     z969     Naftisol  Male           9          30         40   \n",
       "1892     z969     Naftisol  Male           9          30         45   \n",
       "\n",
       "      Tumor Volume (mm3)  Metastatic Sites  \n",
       "0              45.000000                 0  \n",
       "1              38.825898                 0  \n",
       "2              35.014271                 1  \n",
       "3              34.223992                 1  \n",
       "4              32.997729                 1  \n",
       "...                  ...               ...  \n",
       "1888           63.145652                 2  \n",
       "1889           65.841013                 3  \n",
       "1890           69.176246                 4  \n",
       "1891           70.314904                 4  \n",
       "1892           73.867845                 4  \n",
       "\n",
       "[1893 rows x 8 columns]"
      ]
     },
     "execution_count": 3,
     "metadata": {},
     "output_type": "execute_result"
    }
   ],
   "source": [
    "# Combine the data into a single dataset. Merge two datasets on \"Mouse ID\" using only mice with results, with left join.\n",
    "merged_results = pd.merge(mouse_metadata, study_results, how=\"left\", on=\"Mouse ID\")\n",
    "merged_results"
   ]
  },
  {
   "cell_type": "markdown",
   "metadata": {},
   "source": [
    "## Summary statistics"
   ]
  },
  {
   "cell_type": "code",
   "execution_count": 4,
   "metadata": {},
   "outputs": [],
   "source": [
    "# Generate a summary statistics table of mean, median, variance, standard deviation, and SEM of the tumor \n",
    "#volume for each regimen:"
   ]
  },
  {
   "cell_type": "code",
   "execution_count": 5,
   "metadata": {
    "scrolled": true
   },
   "outputs": [
    {
     "data": {
      "text/html": [
       "<div>\n",
       "<style scoped>\n",
       "    .dataframe tbody tr th:only-of-type {\n",
       "        vertical-align: middle;\n",
       "    }\n",
       "\n",
       "    .dataframe tbody tr th {\n",
       "        vertical-align: top;\n",
       "    }\n",
       "\n",
       "    .dataframe thead th {\n",
       "        text-align: right;\n",
       "    }\n",
       "</style>\n",
       "<table border=\"1\" class=\"dataframe\">\n",
       "  <thead>\n",
       "    <tr style=\"text-align: right;\">\n",
       "      <th></th>\n",
       "      <th>Mean Tumor Volume</th>\n",
       "      <th>Median Tumor Volume</th>\n",
       "      <th>Variance in Tumor Volume</th>\n",
       "      <th>St. Deviation of Tumor Volume</th>\n",
       "      <th>SEM of Tumor Volume</th>\n",
       "    </tr>\n",
       "    <tr>\n",
       "      <th>Drug Regimen</th>\n",
       "      <th></th>\n",
       "      <th></th>\n",
       "      <th></th>\n",
       "      <th></th>\n",
       "      <th></th>\n",
       "    </tr>\n",
       "  </thead>\n",
       "  <tbody>\n",
       "    <tr>\n",
       "      <th>Capomulin</th>\n",
       "      <td>40.68</td>\n",
       "      <td>41.56</td>\n",
       "      <td>24.95</td>\n",
       "      <td>4.99</td>\n",
       "      <td>0.33</td>\n",
       "    </tr>\n",
       "    <tr>\n",
       "      <th>Ceftamin</th>\n",
       "      <td>52.59</td>\n",
       "      <td>51.78</td>\n",
       "      <td>39.29</td>\n",
       "      <td>6.27</td>\n",
       "      <td>0.47</td>\n",
       "    </tr>\n",
       "    <tr>\n",
       "      <th>Infubinol</th>\n",
       "      <td>52.88</td>\n",
       "      <td>51.82</td>\n",
       "      <td>43.13</td>\n",
       "      <td>6.57</td>\n",
       "      <td>0.49</td>\n",
       "    </tr>\n",
       "    <tr>\n",
       "      <th>Ketapril</th>\n",
       "      <td>55.24</td>\n",
       "      <td>53.70</td>\n",
       "      <td>68.55</td>\n",
       "      <td>8.28</td>\n",
       "      <td>0.60</td>\n",
       "    </tr>\n",
       "    <tr>\n",
       "      <th>Naftisol</th>\n",
       "      <td>54.33</td>\n",
       "      <td>52.51</td>\n",
       "      <td>66.17</td>\n",
       "      <td>8.13</td>\n",
       "      <td>0.60</td>\n",
       "    </tr>\n",
       "    <tr>\n",
       "      <th>Placebo</th>\n",
       "      <td>54.03</td>\n",
       "      <td>52.29</td>\n",
       "      <td>61.17</td>\n",
       "      <td>7.82</td>\n",
       "      <td>0.58</td>\n",
       "    </tr>\n",
       "    <tr>\n",
       "      <th>Propriva</th>\n",
       "      <td>52.32</td>\n",
       "      <td>50.85</td>\n",
       "      <td>42.35</td>\n",
       "      <td>6.51</td>\n",
       "      <td>0.51</td>\n",
       "    </tr>\n",
       "    <tr>\n",
       "      <th>Ramicane</th>\n",
       "      <td>40.22</td>\n",
       "      <td>40.67</td>\n",
       "      <td>23.49</td>\n",
       "      <td>4.85</td>\n",
       "      <td>0.32</td>\n",
       "    </tr>\n",
       "    <tr>\n",
       "      <th>Stelasyn</th>\n",
       "      <td>54.23</td>\n",
       "      <td>52.43</td>\n",
       "      <td>59.45</td>\n",
       "      <td>7.71</td>\n",
       "      <td>0.57</td>\n",
       "    </tr>\n",
       "    <tr>\n",
       "      <th>Zoniferol</th>\n",
       "      <td>53.24</td>\n",
       "      <td>51.82</td>\n",
       "      <td>48.53</td>\n",
       "      <td>6.97</td>\n",
       "      <td>0.52</td>\n",
       "    </tr>\n",
       "  </tbody>\n",
       "</table>\n",
       "</div>"
      ],
      "text/plain": [
       "             Mean Tumor Volume Median Tumor Volume Variance in Tumor Volume  \\\n",
       "Drug Regimen                                                                  \n",
       "Capomulin                40.68               41.56                    24.95   \n",
       "Ceftamin                 52.59               51.78                    39.29   \n",
       "Infubinol                52.88               51.82                    43.13   \n",
       "Ketapril                 55.24               53.70                    68.55   \n",
       "Naftisol                 54.33               52.51                    66.17   \n",
       "Placebo                  54.03               52.29                    61.17   \n",
       "Propriva                 52.32               50.85                    42.35   \n",
       "Ramicane                 40.22               40.67                    23.49   \n",
       "Stelasyn                 54.23               52.43                    59.45   \n",
       "Zoniferol                53.24               51.82                    48.53   \n",
       "\n",
       "             St. Deviation of Tumor Volume SEM of Tumor Volume  \n",
       "Drug Regimen                                                    \n",
       "Capomulin                             4.99                0.33  \n",
       "Ceftamin                              6.27                0.47  \n",
       "Infubinol                             6.57                0.49  \n",
       "Ketapril                              8.28                0.60  \n",
       "Naftisol                              8.13                0.60  \n",
       "Placebo                               7.82                0.58  \n",
       "Propriva                              6.51                0.51  \n",
       "Ramicane                              4.85                0.32  \n",
       "Stelasyn                              7.71                0.57  \n",
       "Zoniferol                             6.97                0.52  "
      ]
     },
     "execution_count": 5,
     "metadata": {},
     "output_type": "execute_result"
    }
   ],
   "source": [
    "#Group by Drug Regimen so that the statistics will be done on each drug type.\n",
    "regimens_df = merged_results.groupby([\"Drug Regimen\"])\n",
    "\n",
    "#mean(average) tumor volume with formatting.\n",
    "ave_tumor_vol = regimens_df[\"Tumor Volume (mm3)\"].mean().map(\"{:,.2f}\".format)\n",
    "#ave_tumor_vol\n",
    "\n",
    "#median tumor volume with formatting.\n",
    "med_tumor_vol = regimens_df[\"Tumor Volume (mm3)\"].median().map(\"{:,.2f}\".format)\n",
    "#med_tumor_vol\n",
    "\n",
    "#variance of tumor volumes with formatting.\n",
    "var_tumor_vol = regimens_df[\"Tumor Volume (mm3)\"].var().map(\"{:,.2f}\".format)\n",
    "#var_tumor_vol\n",
    "\n",
    "#St.Dev of tumor volumes with formatting.\n",
    "stdev_tumor_vol = regimens_df[\"Tumor Volume (mm3)\"].std().map(\"{:,.2f}\".format)\n",
    "#stdev_tumor_vol\n",
    "\n",
    "#SEM of tumor volumes with formatting.\n",
    "sem_tumor_vol = regimens_df[\"Tumor Volume (mm3)\"].sem().map(\"{:,.2f}\".format)\n",
    "#sem_tumor_vol\n",
    "\n",
    "#Drug regimen tumor statistics summary table:\n",
    "tumor_summary_df = pd.DataFrame({\"Mean Tumor Volume\":ave_tumor_vol,\n",
    "                                 \"Median Tumor Volume\":med_tumor_vol,\n",
    "                                 \"Variance in Tumor Volume\":var_tumor_vol,\n",
    "                                 \"St. Deviation of Tumor Volume\":stdev_tumor_vol,\n",
    "                                 \"SEM of Tumor Volume\":sem_tumor_vol\n",
    "                                 })\n",
    "tumor_summary_df"
   ]
  },
  {
   "cell_type": "markdown",
   "metadata": {},
   "source": [
    "## Bar plots"
   ]
  },
  {
   "cell_type": "code",
   "execution_count": 6,
   "metadata": {},
   "outputs": [
    {
     "data": {
      "text/plain": [
       "(array([0, 1, 2, 3, 4, 5, 6, 7, 8, 9]), <a list of 10 Text xticklabel objects>)"
      ]
     },
     "execution_count": 6,
     "metadata": {},
     "output_type": "execute_result"
    },
    {
     "data": {
      "image/png": "[encoded data removed]",
      "text/plain": [
       "<Figure size 432x288 with 1 Axes>"
      ]
     },
     "metadata": {
      "needs_background": "light"
     },
     "output_type": "display_data"
    }
   ],
   "source": [
    "# Generate a bar plot showing number of data points for each treatment regimen using pandas\n",
    "#Look at how many datapoints exist for each drug regimen:\n",
    "treatments = merged_results[\"Drug Regimen\"].value_counts()\n",
    "\n",
    "#Plot a bar graph of the treatments.\n",
    "treatments.plot(kind=\"bar\")\n",
    "plt.title(\"Total Treatments per Drug Regimen\")\n",
    "plt.xlabel(\"Drug Regimens\")\n",
    "plt.ylabel(\"Number of Treatments\")\n",
    "plt.xticks(rotation=90)"
   ]
  },
  {
   "cell_type": "code",
   "execution_count": 7,
   "metadata": {},
   "outputs": [
    {
     "data": {
      "text/plain": [
       "Text(0, 0.5, 'Number of Treatments')"
      ]
     },
     "execution_count": 7,
     "metadata": {},
     "output_type": "execute_result"
    },
    {
     "data": {
      "image/png": "[encoded data removed]",
      "text/plain": [
       "<Figure size 432x288 with 1 Axes>"
      ]
     },
     "metadata": {
      "needs_background": "light"
     },
     "output_type": "display_data"
    }
   ],
   "source": [
    "# Generate a bar plot showing number of data points for each treatment regimen using pyplot\n",
    "treatment_count = [230, 178, 178, 188, 186, 181, 161, 228, 181, 182]\n",
    "drug_regimens = [\"Capomulin\", \"Ceftamin\", \"Infubinol\", \"Ketapril\", \"Naftisol\", \"Placebo\", \"Propriva\", \"Ramicane\", \"Stelasyn\", \"Zoniferol\"]\n",
    "plt.bar(drug_regimens, treatments, color='b', alpha=0.5, align='center')\n",
    "plt.title(\"Number of Treatments per Drug Regimen\")\n",
    "plt.xlabel(\"Drug Regimen\")\n",
    "plt.xticks(rotation=90)\n",
    "plt.ylabel(\"Number of Treatments\")"
   ]
  },
  {
   "cell_type": "markdown",
   "metadata": {},
   "source": [
    "## Pie plots"
   ]
  },
  {
   "cell_type": "code",
   "execution_count": 8,
   "metadata": {},
   "outputs": [
    {
     "data": {
      "text/plain": [
       "Sex\n",
       "Female    124\n",
       "Male      125\n",
       "Name: Mouse ID, dtype: int64"
      ]
     },
     "execution_count": 8,
     "metadata": {},
     "output_type": "execute_result"
    }
   ],
   "source": [
    "#Generate a pie plot using both Pandas's DataFrame.plot() and Matplotlib's pyplot that shows the distribution of \n",
    "#female or male mice in the study.\n",
    "\n",
    "#Sort by Mouse ID and then remove duplicates leaving only unique mice.\n",
    "sort_mouseid = merged_results.sort_values(\"Mouse ID\")\n",
    "unique_mice_df = sort_mouseid.drop_duplicates(subset=\"Mouse ID\", keep=\"first\")\n",
    "#unique_mice_df\n",
    "\n",
    "#Now group by sex and do a count to get the number of male and female mice.\n",
    "gender_group = unique_mice_df.groupby([\"Sex\"])\n",
    "gender_count = gender_group[\"Mouse ID\"].count()\n",
    "gender_count"
   ]
  },
  {
   "cell_type": "code",
   "execution_count": 9,
   "metadata": {},
   "outputs": [
    {
     "data": {
      "text/plain": [
       "Text(0.5, 1.0, 'Distribution of Male and Female Mice')"
      ]
     },
     "execution_count": 9,
     "metadata": {},
     "output_type": "execute_result"
    },
    {
     "data": {
      "image/png": "[encoded data removed]",
      "text/plain": [
       "<Figure size 432x288 with 1 Axes>"
      ]
     },
     "metadata": {},
     "output_type": "display_data"
    }
   ],
   "source": [
    "# Generate a pie plot showing the distribution of female versus male mice using pandas\n",
    "gender_count.plot(kind=\"pie\", autopct=\"%1.1f%%\", shadow=True, startangle=45)\n",
    "plt.title(\"Distribution of Male and Female Mice\")"
   ]
  },
  {
   "cell_type": "code",
   "execution_count": 10,
   "metadata": {},
   "outputs": [
    {
     "data": {
      "text/plain": [
       "(-1.1025967621734065,\n",
       " 1.1005541258146507,\n",
       " -1.1013043806147866,\n",
       " 1.1009293392510173)"
      ]
     },
     "execution_count": 10,
     "metadata": {},
     "output_type": "execute_result"
    },
    {
     "data": {
      "image/png": "[encoded data removed]",
      "text/plain": [
       "<Figure size 432x288 with 1 Axes>"
      ]
     },
     "metadata": {},
     "output_type": "display_data"
    }
   ],
   "source": [
    "# Generate a pie plot showing the distribution of female versus male mice using pyplot.\n",
    "genders = [\"Female\", \"Male\"]\n",
    "population = [124,125]\n",
    "colors = [\"lightblue\", \"darkorange\"]\n",
    "#explode = (0,1, 0, 0)\n",
    "plt.title(\"Distribution of Male and Female Mice\")\n",
    "plt.pie(population, labels=genders, colors=colors, autopct=\"%1.1f%%\", shadow=True, startangle=45)\n",
    "plt.axis(\"equal\")"
   ]
  },
  {
   "cell_type": "markdown",
   "metadata": {},
   "source": [
    "## Quartiles, outliers and boxplots"
   ]
  },
  {
   "cell_type": "code",
   "execution_count": 11,
   "metadata": {
    "scrolled": false
   },
   "outputs": [
    {
     "data": {
      "text/html": [
       "<div>\n",
       "<style scoped>\n",
       "    .dataframe tbody tr th:only-of-type {\n",
       "        vertical-align: middle;\n",
       "    }\n",
       "\n",
       "    .dataframe tbody tr th {\n",
       "        vertical-align: top;\n",
       "    }\n",
       "\n",
       "    .dataframe thead th {\n",
       "        text-align: right;\n",
       "    }\n",
       "</style>\n",
       "<table border=\"1\" class=\"dataframe\">\n",
       "  <thead>\n",
       "    <tr style=\"text-align: right;\">\n",
       "      <th></th>\n",
       "      <th>Mouse ID</th>\n",
       "      <th>Timepoint</th>\n",
       "      <th>Drug Regimen</th>\n",
       "      <th>Tumor Volume (mm3)</th>\n",
       "    </tr>\n",
       "  </thead>\n",
       "  <tbody>\n",
       "    <tr>\n",
       "      <th>282</th>\n",
       "      <td>l897</td>\n",
       "      <td>45</td>\n",
       "      <td>Capomulin</td>\n",
       "      <td>38.846876</td>\n",
       "    </tr>\n",
       "    <tr>\n",
       "      <th>337</th>\n",
       "      <td>j119</td>\n",
       "      <td>45</td>\n",
       "      <td>Capomulin</td>\n",
       "      <td>38.125164</td>\n",
       "    </tr>\n",
       "    <tr>\n",
       "      <th>317</th>\n",
       "      <td>j246</td>\n",
       "      <td>35</td>\n",
       "      <td>Capomulin</td>\n",
       "      <td>38.753265</td>\n",
       "    </tr>\n",
       "    <tr>\n",
       "      <th>104</th>\n",
       "      <td>u364</td>\n",
       "      <td>45</td>\n",
       "      <td>Capomulin</td>\n",
       "      <td>31.023923</td>\n",
       "    </tr>\n",
       "    <tr>\n",
       "      <th>360</th>\n",
       "      <td>g316</td>\n",
       "      <td>45</td>\n",
       "      <td>Capomulin</td>\n",
       "      <td>40.159220</td>\n",
       "    </tr>\n",
       "    <tr>\n",
       "      <th>...</th>\n",
       "      <td>...</td>\n",
       "      <td>...</td>\n",
       "      <td>...</td>\n",
       "      <td>...</td>\n",
       "    </tr>\n",
       "    <tr>\n",
       "      <th>94</th>\n",
       "      <td>j913</td>\n",
       "      <td>45</td>\n",
       "      <td>Ramicane</td>\n",
       "      <td>31.560470</td>\n",
       "    </tr>\n",
       "    <tr>\n",
       "      <th>194</th>\n",
       "      <td>j989</td>\n",
       "      <td>45</td>\n",
       "      <td>Ramicane</td>\n",
       "      <td>36.134852</td>\n",
       "    </tr>\n",
       "    <tr>\n",
       "      <th>9</th>\n",
       "      <td>k403</td>\n",
       "      <td>45</td>\n",
       "      <td>Ramicane</td>\n",
       "      <td>22.050126</td>\n",
       "    </tr>\n",
       "    <tr>\n",
       "      <th>74</th>\n",
       "      <td>m546</td>\n",
       "      <td>45</td>\n",
       "      <td>Ramicane</td>\n",
       "      <td>30.564625</td>\n",
       "    </tr>\n",
       "    <tr>\n",
       "      <th>49</th>\n",
       "      <td>g791</td>\n",
       "      <td>45</td>\n",
       "      <td>Ramicane</td>\n",
       "      <td>29.128472</td>\n",
       "    </tr>\n",
       "  </tbody>\n",
       "</table>\n",
       "<p>100 rows × 4 columns</p>\n",
       "</div>"
      ],
      "text/plain": [
       "    Mouse ID  Timepoint Drug Regimen  Tumor Volume (mm3)\n",
       "282     l897         45    Capomulin           38.846876\n",
       "337     j119         45    Capomulin           38.125164\n",
       "317     j246         35    Capomulin           38.753265\n",
       "104     u364         45    Capomulin           31.023923\n",
       "360     g316         45    Capomulin           40.159220\n",
       "..       ...        ...          ...                 ...\n",
       "94      j913         45     Ramicane           31.560470\n",
       "194     j989         45     Ramicane           36.134852\n",
       "9       k403         45     Ramicane           22.050126\n",
       "74      m546         45     Ramicane           30.564625\n",
       "49      g791         45     Ramicane           29.128472\n",
       "\n",
       "[100 rows x 4 columns]"
      ]
     },
     "execution_count": 11,
     "metadata": {},
     "output_type": "execute_result"
    }
   ],
   "source": [
    "#Calculate the final tumor volume of each mouse across four of the most promising treatment regimens: Capomulin, Ramicane, \n",
    "#Infubinol, and Ceftamin.\n",
    "\n",
    "#Make dataframe with mouse ID, timepoint, drug regimen, and tumor volume:\n",
    "final_table = merged_results[[\"Mouse ID\", \"Timepoint\", \"Drug Regimen\", \"Tumor Volume (mm3)\"]]\n",
    "\n",
    "#Sort these on mouse ID and timepoint\n",
    "id_time_sort = final_table.sort_values([\"Mouse ID\",\"Timepoint\"])\n",
    "#id_time_sort\n",
    "\n",
    "#Now that they are sorted remove duplicates and only keep the last one, which will be the final tumor volume measured:\n",
    "last_volumes = id_time_sort.drop_duplicates(subset=\"Mouse ID\", keep=\"last\")\n",
    "\n",
    "#Now only show the final tumor volume measurements for the four most promising treatment regimens:\n",
    "last_volumes_top_four = last_volumes[(last_volumes[\"Drug Regimen\"]==\"Ramicane\") | (last_volumes[\"Drug Regimen\"]==\"Capomulin\") | (last_volumes[\"Drug Regimen\"]==\"Infubinol\") | (last_volumes[\"Drug Regimen\"]==\"Ceftamin\")]\n",
    "top_four_final_volumes = last_volumes_top_four.sort_values([\"Drug Regimen\"])\n",
    "top_four_final_volumes"
   ]
  },
  {
   "cell_type": "code",
   "execution_count": 13,
   "metadata": {},
   "outputs": [
    {
     "name": "stdout",
     "output_type": "stream",
     "text": [
      "The lower quartile of Capomulin tumor volume is: 32.4\n",
      "The upper quartile of Capomulin tumor volume is: 40.2\n",
      "The interquartile range Capomulin of tumor volume is: 7.8\n",
      "The the median Capomulin tumor volume is: 38.1 \n",
      "Values below 20.7 could be outliers.\n",
      "Values above 51.9 could be outliers.\n",
      "\n",
      "\n",
      "The lower quartile of Ramicane tumor volume is: 31.6\n",
      "The upper quartile of Ramicane tumor volume is: 40.7\n",
      "The interquartile range Ramicane of tumor volume is: 9.1\n",
      "The the median Ramicane tumor volume is: 36.6 \n",
      "Values below 18.0 could be outliers.\n",
      "Values above 54.4 could be outliers.\n",
      "\n",
      "\n",
      "The lower quartile of Infubinol tumor volume is: 54.0\n",
      "The upper quartile of Infubinol tumor volume is: 65.5\n",
      "The interquartile range Infubinol of tumor volume is: 11.5\n",
      "The the median Infubinol tumor volume is: 60.2 \n",
      "Values below 36.8 could be outliers.\n",
      "Values above 82.8 could be outliers.\n",
      "\n",
      "\n",
      "The lower quartile of Ceftamin tumor volume is: 48.7\n",
      "The upper quartile of Ceftamin tumor volume is: 64.3\n",
      "The interquartile range Ceftamin of tumor volume is: 15.6\n",
      "The the median Ceftamin tumor volume is: 59.9 \n",
      "Values below 25.3 could be outliers.\n",
      "Values above 87.7 could be outliers.\n",
      "\n",
      "\n"
     ]
    }
   ],
   "source": [
    "#Calculate the quartiles and IQR and quantitatively determine if there are any potential outliers across all four treatment \n",
    "#regimens based on the final tumor volumes for each of the four drugs.\n",
    "\n",
    "#This function prints the upper and lower quartiles, the IQR, the median tumor volume and potential outliers for the four drugs.\n",
    "def drug_quartiles(name):\n",
    "    tumor_volume_df = top_four_final_volumes.loc[top_four_final_volumes[\"Drug Regimen\"]==name,['Tumor Volume (mm3)']]\n",
    "    quartiles = tumor_volume_df['Tumor Volume (mm3)'].quantile([.25,.5,.75])\n",
    "\n",
    "    lowerq = round(quartiles[0.25],1)\n",
    "    upperq = round(quartiles[0.75],1)\n",
    "    iqr = round((upperq-lowerq),1)\n",
    "    \n",
    "    print(f\"The lower quartile of {name} tumor volume is: {lowerq}\")\n",
    "    print(f\"The upper quartile of {name} tumor volume is: {upperq}\")\n",
    "    print(f\"The interquartile range {name} of tumor volume is: {iqr}\")\n",
    "    print(f\"The the median {name} tumor volume is: {round(quartiles[0.5],1)} \")\n",
    "\n",
    "    lower_bound = round((lowerq - (1.5*iqr)),1)\n",
    "    upper_bound = round((upperq + (1.5*iqr)),1)\n",
    "    print(f\"Values below {lower_bound} could be outliers.\")\n",
    "    print(f\"Values above {upper_bound} could be outliers.\")\n",
    "    print(\"\\n\")\n",
    "\n",
    "drug_quartiles(\"Capomulin\")\n",
    "drug_quartiles(\"Ramicane\")\n",
    "drug_quartiles(\"Infubinol\")\n",
    "drug_quartiles(\"Ceftamin\")"
   ]
  },
  {
   "cell_type": "code",
   "execution_count": 15,
   "metadata": {
    "scrolled": true
   },
   "outputs": [
    {
     "data": {
      "text/plain": [
       "{'whiskers': [<matplotlib.lines.Line2D at 0x1e9eb8c2d30>,\n",
       "  <matplotlib.lines.Line2D at 0x1e9eb8d60b8>,\n",
       "  <matplotlib.lines.Line2D at 0x1e9eb8e24a8>,\n",
       "  <matplotlib.lines.Line2D at 0x1e9eb8e27f0>,\n",
       "  <matplotlib.lines.Line2D at 0x1e9eb8ecbe0>,\n",
       "  <matplotlib.lines.Line2D at 0x1e9eb8ecf28>,\n",
       "  <matplotlib.lines.Line2D at 0x1e9eb904358>,\n",
       "  <matplotlib.lines.Line2D at 0x1e9eb9046a0>],\n",
       " 'caps': [<matplotlib.lines.Line2D at 0x1e9eb8d6400>,\n",
       "  <matplotlib.lines.Line2D at 0x1e9eb8d6748>,\n",
       "  <matplotlib.lines.Line2D at 0x1e9eb8e2b38>,\n",
       "  <matplotlib.lines.Line2D at 0x1e9eb8e2e80>,\n",
       "  <matplotlib.lines.Line2D at 0x1e9eb8f72b0>,\n",
       "  <matplotlib.lines.Line2D at 0x1e9eb8f75f8>,\n",
       "  <matplotlib.lines.Line2D at 0x1e9eb9049e8>,\n",
       "  <matplotlib.lines.Line2D at 0x1e9eb904d30>],\n",
       " 'boxes': [<matplotlib.lines.Line2D at 0x1e9eb8c29e8>,\n",
       "  <matplotlib.lines.Line2D at 0x1e9eb8e2128>,\n",
       "  <matplotlib.lines.Line2D at 0x1e9eb8ec860>,\n",
       "  <matplotlib.lines.Line2D at 0x1e9eb8f7f98>],\n",
       " 'medians': [<matplotlib.lines.Line2D at 0x1e9eb8d6a90>,\n",
       "  <matplotlib.lines.Line2D at 0x1e9eb8ec208>,\n",
       "  <matplotlib.lines.Line2D at 0x1e9eb8f7940>,\n",
       "  <matplotlib.lines.Line2D at 0x1e9eb90f0b8>],\n",
       " 'fliers': [<matplotlib.lines.Line2D at 0x1e9eb8d6dd8>,\n",
       "  <matplotlib.lines.Line2D at 0x1e9eb8ec550>,\n",
       "  <matplotlib.lines.Line2D at 0x1e9eb8f7c88>,\n",
       "  <matplotlib.lines.Line2D at 0x1e9eb90f400>],\n",
       " 'means': []}"
      ]
     },
     "execution_count": 15,
     "metadata": {},
     "output_type": "execute_result"
    },
    {
     "data": {
      "image/png": "[encoded data removed]",
      "text/plain": [
       "<Figure size 432x288 with 1 Axes>"
      ]
     },
     "metadata": {
      "needs_background": "light"
     },
     "output_type": "display_data"
    }
   ],
   "source": [
    "#Using Matplotlib, generate a box and whisker plot of the final tumor volume for all four treatment regimens \n",
    "#and highlight any potential outliers in the plot by changing their color and style.\n",
    "#plt.boxplot ([x1, x2, x3])\n",
    "capomulin = merged_results.loc[merged_results[\"Drug Regimen\"]==\"Capomulin\",['Tumor Volume (mm3)']]\n",
    "#capomulin\n",
    "ramicane = merged_results.loc[merged_results[\"Drug Regimen\"]==\"Ramicane\",['Tumor Volume (mm3)']]\n",
    "#ramicane\n",
    "infubinol = merged_results.loc[merged_results[\"Drug Regimen\"]==\"Infubinol\",['Tumor Volume (mm3)']]\n",
    "#ionfubinol\n",
    "ceftamin = merged_results.loc[merged_results[\"Drug Regimen\"]==\"Ceftamin\",['Tumor Volume (mm3)']]\n",
    "#ceftamin\n",
    "plt.title(\"Four Regimens Tumor Volumes\")\n",
    "red_diamond = dict(markerfacecolor='r', marker='D')\n",
    "plt.boxplot([capomulin['Tumor Volume (mm3)'], ramicane['Tumor Volume (mm3)'], infubinol['Tumor Volume (mm3)'], ceftamin['Tumor Volume (mm3)']],flierprops=red_diamond)"
   ]
  },
  {
   "cell_type": "markdown",
   "metadata": {},
   "source": [
    "## Line and scatter plots"
   ]
  },
  {
   "cell_type": "code",
   "execution_count": 16,
   "metadata": {
    "scrolled": false
   },
   "outputs": [
    {
     "data": {
      "text/plain": [
       "<matplotlib.axes._subplots.AxesSubplot at 0x1e9eb92e710>"
      ]
     },
     "execution_count": 16,
     "metadata": {},
     "output_type": "execute_result"
    },
    {
     "data": {
      "image/png": "[encoded data removed]",
      "text/plain": [
       "<Figure size 576x576 with 1 Axes>"
      ]
     },
     "metadata": {
      "needs_background": "light"
     },
     "output_type": "display_data"
    }
   ],
   "source": [
    "#Generate a line plot of time point versus tumor volume for a mouse treated with Capomulin\n",
    "#Mouse m601 treated with Capomulin\n",
    "m601_tumor_df = merged_results.loc[merged_results[\"Mouse ID\"]==\"m601\",:]\n",
    "#m601_tumor_df\n",
    "\n",
    "#Line plot of mouse m601, x values are timepoint and y values are tumor volume.\n",
    "m601_tumor_df.plot(kind=\"line\", x=\"Timepoint\", y=\"Tumor Volume (mm3)\", grid=True, figsize=(8,8), \n",
    "                   title=\"Mouse (m601) Tumor Volume During Capomulin Regimen\")"
   ]
  },
  {
   "cell_type": "code",
   "execution_count": 17,
   "metadata": {},
   "outputs": [
    {
     "name": "stdout",
     "output_type": "stream",
     "text": [
      "The r-squared is: 0.7088568047708717\n"
     ]
    },
    {
     "data": {
      "image/png": "[encoded data removed]",
      "text/plain": [
       "<Figure size 432x288 with 1 Axes>"
      ]
     },
     "metadata": {
      "needs_background": "light"
     },
     "output_type": "display_data"
    }
   ],
   "source": [
    "#Generate a scatter plot of mouse weight versus average tumor volume for the Capomulin regimen.\n",
    "#Calculate the correlation coefficient and linear regression model for mouse weight and average tumor volume for the \n",
    "#Capomulin regimen\n",
    "\n",
    "#make dataframe with only the Capomulin Drug Regimen\n",
    "Capomulin_df = merged_results[merged_results[\"Drug Regimen\"] == 'Capomulin']\n",
    "#Capomulin_df\n",
    "\n",
    "#groupby mouse ID so that the mean weight and mean tumor volume can be calculated for each mouse.\n",
    "Capo_id_group = Capomulin_df.groupby([\"Mouse ID\"])\n",
    "\n",
    "#average/mean mouse weight:\n",
    "ave_weight = Capo_id_group[\"Weight (g)\"].mean()\n",
    "#ave_weight\n",
    "\n",
    "#average/mean tumor volume:\n",
    "ave_volume = Capo_id_group[\"Tumor Volume (mm3)\"].mean()\n",
    "#ave_volume\n",
    "\n",
    "#Plot the mean mouse weight vs. mean tumor volume with linear regression trendline and r squared value:\n",
    "x_axis = ave_volume\n",
    "y_axis = ave_weight\n",
    "(slope, intercept, rvalue, pvalue, stderr) = linregress(x_axis, y_axis)\n",
    "regress_values = x_axis * slope + intercept\n",
    "line_eq = \"y = \" + str(round(slope,2)) + \"x + \" + str(round(intercept,2))\n",
    "plt.scatter(x_axis, y_axis)\n",
    "plt.plot(x_axis,regress_values,\"r-\")\n",
    "plt.annotate(line_eq,(40,16),fontsize=12,color=\"red\")\n",
    "plt.xlabel('Average Tumor Volumes (mm3)')\n",
    "plt.ylabel('Average Mouse Weight (g)')\n",
    "plt.title(\"Average Mouse Weight (g) vs. Average Tumor Volume (mm3)\")\n",
    "print(f\"The r-squared is: {rvalue**2}\")"
   ]
  }
 ],
 "metadata": {
  "anaconda-cloud": {},
  "kernelspec": {
   "display_name": "Python [conda env:.conda-PythonData]",
   "language": "python",
   "name": "conda-env-.conda-PythonData-py"
  },
  "language_info": {
   "codemirror_mode": {
    "name": "ipython",
    "version": 3
   },
   "file_extension": ".py",
   "mimetype": "text/x-python",
   "name": "python",
   "nbconvert_exporter": "python",
   "pygments_lexer": "ipython3",
   "version": "3.6.10"
  }
 },
 "nbformat": 4,
 "nbformat_minor": 2
}
